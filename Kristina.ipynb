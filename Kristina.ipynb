{
  "nbformat": 4,
  "nbformat_minor": 0,
  "metadata": {
    "colab": {
      "provenance": []
    },
    "kernelspec": {
      "name": "python3",
      "display_name": "Python 3"
    },
    "language_info": {
      "name": "python"
    }
  },
  "cells": [
    {
      "cell_type": "code",
      "execution_count": null,
      "metadata": {
        "id": "uZWFqDKkFVCe"
      },
      "outputs": [],
      "source": [
        "import pandas as pd\n",
        "from sklearn.preprocessing import LabelEncoder\n",
        "from sklearn.model_selection import train_test_split\n",
        "from sklearn.linear_model import LinearRegression\n",
        "from sklearn.tree import DecisionTreeRegressor\n",
        "from sklearn.metrics import mean_squared_error, r2_score\n",
        "import matplotlib.pyplot as plt\n",
        "import math"
      ]
    },
    {
      "cell_type": "code",
      "source": [
        "url = \"https://raw.githubusercontent.com/KristinaStepanovich/Project/main/The_nidus_of_Dutch_elm_disease.csv\"\n",
        "df = pd.read_csv(url)\n",
        "df.head()\n",
        "# просмотр датафрейма"
      ],
      "metadata": {
        "colab": {
          "base_uri": "https://localhost:8080/",
          "height": 250
        },
        "id": "gYmh6WkzaUk9",
        "outputId": "3c5bc39b-0013-43a1-b19d-d8ac51adda33"
      },
      "execution_count": null,
      "outputs": [
        {
          "output_type": "execute_result",
          "data": {
            "text/plain": [
              "   Порядковый номер  Идентификационный номер     Классификация очагов  \\\n",
              "0              1464                        1         Действующий очаг   \n",
              "1              1465                        2         Возникающий очаг   \n",
              "2              1466                        3         Действующий очаг   \n",
              "3              1467                        4         Действующий очаг   \n",
              "4              1468                        5  Без признаков поражения   \n",
              "\n",
              "   Год обследования  Периметр территории очагов,м  \\\n",
              "0              2017                     17.840530   \n",
              "1              2017                     47.601830   \n",
              "2              2017                     48.658123   \n",
              "3              2017                    239.168655   \n",
              "4              2016                   1829.541016   \n",
              "\n",
              "   Площадь территории очагов,м2  \n",
              "0                     11.855066  \n",
              "1                    175.242859  \n",
              "2                     95.710403  \n",
              "3                    595.867127  \n",
              "4                   3685.098633  "
            ],
            "text/html": [
              "\n",
              "  <div id=\"df-a1a307cc-b294-4794-ab38-adfe4ab8d7b4\">\n",
              "    <div class=\"colab-df-container\">\n",
              "      <div>\n",
              "<style scoped>\n",
              "    .dataframe tbody tr th:only-of-type {\n",
              "        vertical-align: middle;\n",
              "    }\n",
              "\n",
              "    .dataframe tbody tr th {\n",
              "        vertical-align: top;\n",
              "    }\n",
              "\n",
              "    .dataframe thead th {\n",
              "        text-align: right;\n",
              "    }\n",
              "</style>\n",
              "<table border=\"1\" class=\"dataframe\">\n",
              "  <thead>\n",
              "    <tr style=\"text-align: right;\">\n",
              "      <th></th>\n",
              "      <th>Порядковый номер</th>\n",
              "      <th>Идентификационный номер</th>\n",
              "      <th>Классификация очагов</th>\n",
              "      <th>Год обследования</th>\n",
              "      <th>Периметр территории очагов,м</th>\n",
              "      <th>Площадь территории очагов,м2</th>\n",
              "    </tr>\n",
              "  </thead>\n",
              "  <tbody>\n",
              "    <tr>\n",
              "      <th>0</th>\n",
              "      <td>1464</td>\n",
              "      <td>1</td>\n",
              "      <td>Действующий очаг</td>\n",
              "      <td>2017</td>\n",
              "      <td>17.840530</td>\n",
              "      <td>11.855066</td>\n",
              "    </tr>\n",
              "    <tr>\n",
              "      <th>1</th>\n",
              "      <td>1465</td>\n",
              "      <td>2</td>\n",
              "      <td>Возникающий очаг</td>\n",
              "      <td>2017</td>\n",
              "      <td>47.601830</td>\n",
              "      <td>175.242859</td>\n",
              "    </tr>\n",
              "    <tr>\n",
              "      <th>2</th>\n",
              "      <td>1466</td>\n",
              "      <td>3</td>\n",
              "      <td>Действующий очаг</td>\n",
              "      <td>2017</td>\n",
              "      <td>48.658123</td>\n",
              "      <td>95.710403</td>\n",
              "    </tr>\n",
              "    <tr>\n",
              "      <th>3</th>\n",
              "      <td>1467</td>\n",
              "      <td>4</td>\n",
              "      <td>Действующий очаг</td>\n",
              "      <td>2017</td>\n",
              "      <td>239.168655</td>\n",
              "      <td>595.867127</td>\n",
              "    </tr>\n",
              "    <tr>\n",
              "      <th>4</th>\n",
              "      <td>1468</td>\n",
              "      <td>5</td>\n",
              "      <td>Без признаков поражения</td>\n",
              "      <td>2016</td>\n",
              "      <td>1829.541016</td>\n",
              "      <td>3685.098633</td>\n",
              "    </tr>\n",
              "  </tbody>\n",
              "</table>\n",
              "</div>\n",
              "      <button class=\"colab-df-convert\" onclick=\"convertToInteractive('df-a1a307cc-b294-4794-ab38-adfe4ab8d7b4')\"\n",
              "              title=\"Convert this dataframe to an interactive table.\"\n",
              "              style=\"display:none;\">\n",
              "        \n",
              "  <svg xmlns=\"http://www.w3.org/2000/svg\" height=\"24px\"viewBox=\"0 0 24 24\"\n",
              "       width=\"24px\">\n",
              "    <path d=\"M0 0h24v24H0V0z\" fill=\"none\"/>\n",
              "    <path d=\"M18.56 5.44l.94 2.06.94-2.06 2.06-.94-2.06-.94-.94-2.06-.94 2.06-2.06.94zm-11 1L8.5 8.5l.94-2.06 2.06-.94-2.06-.94L8.5 2.5l-.94 2.06-2.06.94zm10 10l.94 2.06.94-2.06 2.06-.94-2.06-.94-.94-2.06-.94 2.06-2.06.94z\"/><path d=\"M17.41 7.96l-1.37-1.37c-.4-.4-.92-.59-1.43-.59-.52 0-1.04.2-1.43.59L10.3 9.45l-7.72 7.72c-.78.78-.78 2.05 0 2.83L4 21.41c.39.39.9.59 1.41.59.51 0 1.02-.2 1.41-.59l7.78-7.78 2.81-2.81c.8-.78.8-2.07 0-2.86zM5.41 20L4 18.59l7.72-7.72 1.47 1.35L5.41 20z\"/>\n",
              "  </svg>\n",
              "      </button>\n",
              "      \n",
              "  <style>\n",
              "    .colab-df-container {\n",
              "      display:flex;\n",
              "      flex-wrap:wrap;\n",
              "      gap: 12px;\n",
              "    }\n",
              "\n",
              "    .colab-df-convert {\n",
              "      background-color: #E8F0FE;\n",
              "      border: none;\n",
              "      border-radius: 50%;\n",
              "      cursor: pointer;\n",
              "      display: none;\n",
              "      fill: #1967D2;\n",
              "      height: 32px;\n",
              "      padding: 0 0 0 0;\n",
              "      width: 32px;\n",
              "    }\n",
              "\n",
              "    .colab-df-convert:hover {\n",
              "      background-color: #E2EBFA;\n",
              "      box-shadow: 0px 1px 2px rgba(60, 64, 67, 0.3), 0px 1px 3px 1px rgba(60, 64, 67, 0.15);\n",
              "      fill: #174EA6;\n",
              "    }\n",
              "\n",
              "    [theme=dark] .colab-df-convert {\n",
              "      background-color: #3B4455;\n",
              "      fill: #D2E3FC;\n",
              "    }\n",
              "\n",
              "    [theme=dark] .colab-df-convert:hover {\n",
              "      background-color: #434B5C;\n",
              "      box-shadow: 0px 1px 3px 1px rgba(0, 0, 0, 0.15);\n",
              "      filter: drop-shadow(0px 1px 2px rgba(0, 0, 0, 0.3));\n",
              "      fill: #FFFFFF;\n",
              "    }\n",
              "  </style>\n",
              "\n",
              "      <script>\n",
              "        const buttonEl =\n",
              "          document.querySelector('#df-a1a307cc-b294-4794-ab38-adfe4ab8d7b4 button.colab-df-convert');\n",
              "        buttonEl.style.display =\n",
              "          google.colab.kernel.accessAllowed ? 'block' : 'none';\n",
              "\n",
              "        async function convertToInteractive(key) {\n",
              "          const element = document.querySelector('#df-a1a307cc-b294-4794-ab38-adfe4ab8d7b4');\n",
              "          const dataTable =\n",
              "            await google.colab.kernel.invokeFunction('convertToInteractive',\n",
              "                                                     [key], {});\n",
              "          if (!dataTable) return;\n",
              "\n",
              "          const docLinkHtml = 'Like what you see? Visit the ' +\n",
              "            '<a target=\"_blank\" href=https://colab.research.google.com/notebooks/data_table.ipynb>data table notebook</a>'\n",
              "            + ' to learn more about interactive tables.';\n",
              "          element.innerHTML = '';\n",
              "          dataTable['output_type'] = 'display_data';\n",
              "          await google.colab.output.renderOutput(dataTable, element);\n",
              "          const docLink = document.createElement('div');\n",
              "          docLink.innerHTML = docLinkHtml;\n",
              "          element.appendChild(docLink);\n",
              "        }\n",
              "      </script>\n",
              "    </div>\n",
              "  </div>\n",
              "  "
            ]
          },
          "metadata": {},
          "execution_count": 45
        }
      ]
    },
    {
      "cell_type": "code",
      "source": [
        "# проверяем отрицательные значения\n",
        "df[df['Площадь территории очагов,м2'] < 0]"
      ],
      "metadata": {
        "colab": {
          "base_uri": "https://localhost:8080/",
          "height": 537
        },
        "id": "oEsYPKs6fvJB",
        "outputId": "b2759e29-d380-4fbd-f693-b7d5e02a5c23"
      },
      "execution_count": null,
      "outputs": [
        {
          "output_type": "execute_result",
          "data": {
            "text/plain": [
              "      Порядковый номер  Идентификационный номер     Классификация очагов  \\\n",
              "200               1699                      201         Действующий очаг   \n",
              "201               1700                      202         Действующий очаг   \n",
              "392               1954                      393          Затухающий очаг   \n",
              "411               2007                      412         Действующий очаг   \n",
              "423               2019                      424          Затухающий очаг   \n",
              "...                ...                      ...                      ...   \n",
              "2218              3853                     2219         Действующий очаг   \n",
              "2221              3856                     2222         Действующий очаг   \n",
              "2233              3868                     2234  Без признаков поражения   \n",
              "2236              3871                     2237  Без признаков поражения   \n",
              "2238              3873                     2239  Без признаков поражения   \n",
              "\n",
              "      Год обследования  Периметр территории очагов,м  \\\n",
              "200               2017                     94.086380   \n",
              "201               2017                    196.579117   \n",
              "392               2017                    213.583282   \n",
              "411               2017                     79.326340   \n",
              "423               2017                    593.938660   \n",
              "...                ...                           ...   \n",
              "2218              2017                    205.306900   \n",
              "2221              2017                    417.890320   \n",
              "2233              2017                    291.452728   \n",
              "2236              2017                    177.443848   \n",
              "2238              2017                    155.339767   \n",
              "\n",
              "      Площадь территории очагов,м2  \n",
              "200                    -293.949188  \n",
              "201                   -1412.491821  \n",
              "392                   -6341.792969  \n",
              "411                    -397.736572  \n",
              "423                  -25939.234375  \n",
              "...                            ...  \n",
              "2218                  -2012.946777  \n",
              "2221                 -36852.847656  \n",
              "2233                  -1303.706543  \n",
              "2236                   -411.102264  \n",
              "2238                   -105.151955  \n",
              "\n",
              "[100 rows x 6 columns]"
            ],
            "text/html": [
              "\n",
              "  <div id=\"df-79c82b95-fc19-4e81-ba8e-a9dfaa58bd40\">\n",
              "    <div class=\"colab-df-container\">\n",
              "      <div>\n",
              "<style scoped>\n",
              "    .dataframe tbody tr th:only-of-type {\n",
              "        vertical-align: middle;\n",
              "    }\n",
              "\n",
              "    .dataframe tbody tr th {\n",
              "        vertical-align: top;\n",
              "    }\n",
              "\n",
              "    .dataframe thead th {\n",
              "        text-align: right;\n",
              "    }\n",
              "</style>\n",
              "<table border=\"1\" class=\"dataframe\">\n",
              "  <thead>\n",
              "    <tr style=\"text-align: right;\">\n",
              "      <th></th>\n",
              "      <th>Порядковый номер</th>\n",
              "      <th>Идентификационный номер</th>\n",
              "      <th>Классификация очагов</th>\n",
              "      <th>Год обследования</th>\n",
              "      <th>Периметр территории очагов,м</th>\n",
              "      <th>Площадь территории очагов,м2</th>\n",
              "    </tr>\n",
              "  </thead>\n",
              "  <tbody>\n",
              "    <tr>\n",
              "      <th>200</th>\n",
              "      <td>1699</td>\n",
              "      <td>201</td>\n",
              "      <td>Действующий очаг</td>\n",
              "      <td>2017</td>\n",
              "      <td>94.086380</td>\n",
              "      <td>-293.949188</td>\n",
              "    </tr>\n",
              "    <tr>\n",
              "      <th>201</th>\n",
              "      <td>1700</td>\n",
              "      <td>202</td>\n",
              "      <td>Действующий очаг</td>\n",
              "      <td>2017</td>\n",
              "      <td>196.579117</td>\n",
              "      <td>-1412.491821</td>\n",
              "    </tr>\n",
              "    <tr>\n",
              "      <th>392</th>\n",
              "      <td>1954</td>\n",
              "      <td>393</td>\n",
              "      <td>Затухающий очаг</td>\n",
              "      <td>2017</td>\n",
              "      <td>213.583282</td>\n",
              "      <td>-6341.792969</td>\n",
              "    </tr>\n",
              "    <tr>\n",
              "      <th>411</th>\n",
              "      <td>2007</td>\n",
              "      <td>412</td>\n",
              "      <td>Действующий очаг</td>\n",
              "      <td>2017</td>\n",
              "      <td>79.326340</td>\n",
              "      <td>-397.736572</td>\n",
              "    </tr>\n",
              "    <tr>\n",
              "      <th>423</th>\n",
              "      <td>2019</td>\n",
              "      <td>424</td>\n",
              "      <td>Затухающий очаг</td>\n",
              "      <td>2017</td>\n",
              "      <td>593.938660</td>\n",
              "      <td>-25939.234375</td>\n",
              "    </tr>\n",
              "    <tr>\n",
              "      <th>...</th>\n",
              "      <td>...</td>\n",
              "      <td>...</td>\n",
              "      <td>...</td>\n",
              "      <td>...</td>\n",
              "      <td>...</td>\n",
              "      <td>...</td>\n",
              "    </tr>\n",
              "    <tr>\n",
              "      <th>2218</th>\n",
              "      <td>3853</td>\n",
              "      <td>2219</td>\n",
              "      <td>Действующий очаг</td>\n",
              "      <td>2017</td>\n",
              "      <td>205.306900</td>\n",
              "      <td>-2012.946777</td>\n",
              "    </tr>\n",
              "    <tr>\n",
              "      <th>2221</th>\n",
              "      <td>3856</td>\n",
              "      <td>2222</td>\n",
              "      <td>Действующий очаг</td>\n",
              "      <td>2017</td>\n",
              "      <td>417.890320</td>\n",
              "      <td>-36852.847656</td>\n",
              "    </tr>\n",
              "    <tr>\n",
              "      <th>2233</th>\n",
              "      <td>3868</td>\n",
              "      <td>2234</td>\n",
              "      <td>Без признаков поражения</td>\n",
              "      <td>2017</td>\n",
              "      <td>291.452728</td>\n",
              "      <td>-1303.706543</td>\n",
              "    </tr>\n",
              "    <tr>\n",
              "      <th>2236</th>\n",
              "      <td>3871</td>\n",
              "      <td>2237</td>\n",
              "      <td>Без признаков поражения</td>\n",
              "      <td>2017</td>\n",
              "      <td>177.443848</td>\n",
              "      <td>-411.102264</td>\n",
              "    </tr>\n",
              "    <tr>\n",
              "      <th>2238</th>\n",
              "      <td>3873</td>\n",
              "      <td>2239</td>\n",
              "      <td>Без признаков поражения</td>\n",
              "      <td>2017</td>\n",
              "      <td>155.339767</td>\n",
              "      <td>-105.151955</td>\n",
              "    </tr>\n",
              "  </tbody>\n",
              "</table>\n",
              "<p>100 rows × 6 columns</p>\n",
              "</div>\n",
              "      <button class=\"colab-df-convert\" onclick=\"convertToInteractive('df-79c82b95-fc19-4e81-ba8e-a9dfaa58bd40')\"\n",
              "              title=\"Convert this dataframe to an interactive table.\"\n",
              "              style=\"display:none;\">\n",
              "        \n",
              "  <svg xmlns=\"http://www.w3.org/2000/svg\" height=\"24px\"viewBox=\"0 0 24 24\"\n",
              "       width=\"24px\">\n",
              "    <path d=\"M0 0h24v24H0V0z\" fill=\"none\"/>\n",
              "    <path d=\"M18.56 5.44l.94 2.06.94-2.06 2.06-.94-2.06-.94-.94-2.06-.94 2.06-2.06.94zm-11 1L8.5 8.5l.94-2.06 2.06-.94-2.06-.94L8.5 2.5l-.94 2.06-2.06.94zm10 10l.94 2.06.94-2.06 2.06-.94-2.06-.94-.94-2.06-.94 2.06-2.06.94z\"/><path d=\"M17.41 7.96l-1.37-1.37c-.4-.4-.92-.59-1.43-.59-.52 0-1.04.2-1.43.59L10.3 9.45l-7.72 7.72c-.78.78-.78 2.05 0 2.83L4 21.41c.39.39.9.59 1.41.59.51 0 1.02-.2 1.41-.59l7.78-7.78 2.81-2.81c.8-.78.8-2.07 0-2.86zM5.41 20L4 18.59l7.72-7.72 1.47 1.35L5.41 20z\"/>\n",
              "  </svg>\n",
              "      </button>\n",
              "      \n",
              "  <style>\n",
              "    .colab-df-container {\n",
              "      display:flex;\n",
              "      flex-wrap:wrap;\n",
              "      gap: 12px;\n",
              "    }\n",
              "\n",
              "    .colab-df-convert {\n",
              "      background-color: #E8F0FE;\n",
              "      border: none;\n",
              "      border-radius: 50%;\n",
              "      cursor: pointer;\n",
              "      display: none;\n",
              "      fill: #1967D2;\n",
              "      height: 32px;\n",
              "      padding: 0 0 0 0;\n",
              "      width: 32px;\n",
              "    }\n",
              "\n",
              "    .colab-df-convert:hover {\n",
              "      background-color: #E2EBFA;\n",
              "      box-shadow: 0px 1px 2px rgba(60, 64, 67, 0.3), 0px 1px 3px 1px rgba(60, 64, 67, 0.15);\n",
              "      fill: #174EA6;\n",
              "    }\n",
              "\n",
              "    [theme=dark] .colab-df-convert {\n",
              "      background-color: #3B4455;\n",
              "      fill: #D2E3FC;\n",
              "    }\n",
              "\n",
              "    [theme=dark] .colab-df-convert:hover {\n",
              "      background-color: #434B5C;\n",
              "      box-shadow: 0px 1px 3px 1px rgba(0, 0, 0, 0.15);\n",
              "      filter: drop-shadow(0px 1px 2px rgba(0, 0, 0, 0.3));\n",
              "      fill: #FFFFFF;\n",
              "    }\n",
              "  </style>\n",
              "\n",
              "      <script>\n",
              "        const buttonEl =\n",
              "          document.querySelector('#df-79c82b95-fc19-4e81-ba8e-a9dfaa58bd40 button.colab-df-convert');\n",
              "        buttonEl.style.display =\n",
              "          google.colab.kernel.accessAllowed ? 'block' : 'none';\n",
              "\n",
              "        async function convertToInteractive(key) {\n",
              "          const element = document.querySelector('#df-79c82b95-fc19-4e81-ba8e-a9dfaa58bd40');\n",
              "          const dataTable =\n",
              "            await google.colab.kernel.invokeFunction('convertToInteractive',\n",
              "                                                     [key], {});\n",
              "          if (!dataTable) return;\n",
              "\n",
              "          const docLinkHtml = 'Like what you see? Visit the ' +\n",
              "            '<a target=\"_blank\" href=https://colab.research.google.com/notebooks/data_table.ipynb>data table notebook</a>'\n",
              "            + ' to learn more about interactive tables.';\n",
              "          element.innerHTML = '';\n",
              "          dataTable['output_type'] = 'display_data';\n",
              "          await google.colab.output.renderOutput(dataTable, element);\n",
              "          const docLink = document.createElement('div');\n",
              "          docLink.innerHTML = docLinkHtml;\n",
              "          element.appendChild(docLink);\n",
              "        }\n",
              "      </script>\n",
              "    </div>\n",
              "  </div>\n",
              "  "
            ]
          },
          "metadata": {},
          "execution_count": 46
        }
      ]
    },
    {
      "cell_type": "code",
      "source": [
        "# убираем отрицательные значения\n",
        "# конвертер вернет модуль числа\n",
        "converter = lambda x: math.fabs(x)\n",
        "df['Площадь территории очагов,м2'] = df['Площадь территории очагов,м2'].apply(converter)"
      ],
      "metadata": {
        "id": "8UXvvpIZgCPw"
      },
      "execution_count": null,
      "outputs": []
    },
    {
      "cell_type": "code",
      "source": [
        "# проверка на отрицательные значения\n",
        "df[df['Площадь территории очагов,м2'] < 0]"
      ],
      "metadata": {
        "colab": {
          "base_uri": "https://localhost:8080/",
          "height": 49
        },
        "id": "TdoqF10Eghbg",
        "outputId": "3c754712-f431-4fd9-8f0f-d557bd7bf789"
      },
      "execution_count": null,
      "outputs": [
        {
          "output_type": "execute_result",
          "data": {
            "text/plain": [
              "Empty DataFrame\n",
              "Columns: [Порядковый номер, Идентификационный номер, Классификация очагов, Год обследования, Периметр территории очагов,м, Площадь территории очагов,м2]\n",
              "Index: []"
            ],
            "text/html": [
              "\n",
              "  <div id=\"df-fd5f9983-b98f-4018-9e9f-99853dcf2a31\">\n",
              "    <div class=\"colab-df-container\">\n",
              "      <div>\n",
              "<style scoped>\n",
              "    .dataframe tbody tr th:only-of-type {\n",
              "        vertical-align: middle;\n",
              "    }\n",
              "\n",
              "    .dataframe tbody tr th {\n",
              "        vertical-align: top;\n",
              "    }\n",
              "\n",
              "    .dataframe thead th {\n",
              "        text-align: right;\n",
              "    }\n",
              "</style>\n",
              "<table border=\"1\" class=\"dataframe\">\n",
              "  <thead>\n",
              "    <tr style=\"text-align: right;\">\n",
              "      <th></th>\n",
              "      <th>Порядковый номер</th>\n",
              "      <th>Идентификационный номер</th>\n",
              "      <th>Классификация очагов</th>\n",
              "      <th>Год обследования</th>\n",
              "      <th>Периметр территории очагов,м</th>\n",
              "      <th>Площадь территории очагов,м2</th>\n",
              "    </tr>\n",
              "  </thead>\n",
              "  <tbody>\n",
              "  </tbody>\n",
              "</table>\n",
              "</div>\n",
              "      <button class=\"colab-df-convert\" onclick=\"convertToInteractive('df-fd5f9983-b98f-4018-9e9f-99853dcf2a31')\"\n",
              "              title=\"Convert this dataframe to an interactive table.\"\n",
              "              style=\"display:none;\">\n",
              "        \n",
              "  <svg xmlns=\"http://www.w3.org/2000/svg\" height=\"24px\"viewBox=\"0 0 24 24\"\n",
              "       width=\"24px\">\n",
              "    <path d=\"M0 0h24v24H0V0z\" fill=\"none\"/>\n",
              "    <path d=\"M18.56 5.44l.94 2.06.94-2.06 2.06-.94-2.06-.94-.94-2.06-.94 2.06-2.06.94zm-11 1L8.5 8.5l.94-2.06 2.06-.94-2.06-.94L8.5 2.5l-.94 2.06-2.06.94zm10 10l.94 2.06.94-2.06 2.06-.94-2.06-.94-.94-2.06-.94 2.06-2.06.94z\"/><path d=\"M17.41 7.96l-1.37-1.37c-.4-.4-.92-.59-1.43-.59-.52 0-1.04.2-1.43.59L10.3 9.45l-7.72 7.72c-.78.78-.78 2.05 0 2.83L4 21.41c.39.39.9.59 1.41.59.51 0 1.02-.2 1.41-.59l7.78-7.78 2.81-2.81c.8-.78.8-2.07 0-2.86zM5.41 20L4 18.59l7.72-7.72 1.47 1.35L5.41 20z\"/>\n",
              "  </svg>\n",
              "      </button>\n",
              "      \n",
              "  <style>\n",
              "    .colab-df-container {\n",
              "      display:flex;\n",
              "      flex-wrap:wrap;\n",
              "      gap: 12px;\n",
              "    }\n",
              "\n",
              "    .colab-df-convert {\n",
              "      background-color: #E8F0FE;\n",
              "      border: none;\n",
              "      border-radius: 50%;\n",
              "      cursor: pointer;\n",
              "      display: none;\n",
              "      fill: #1967D2;\n",
              "      height: 32px;\n",
              "      padding: 0 0 0 0;\n",
              "      width: 32px;\n",
              "    }\n",
              "\n",
              "    .colab-df-convert:hover {\n",
              "      background-color: #E2EBFA;\n",
              "      box-shadow: 0px 1px 2px rgba(60, 64, 67, 0.3), 0px 1px 3px 1px rgba(60, 64, 67, 0.15);\n",
              "      fill: #174EA6;\n",
              "    }\n",
              "\n",
              "    [theme=dark] .colab-df-convert {\n",
              "      background-color: #3B4455;\n",
              "      fill: #D2E3FC;\n",
              "    }\n",
              "\n",
              "    [theme=dark] .colab-df-convert:hover {\n",
              "      background-color: #434B5C;\n",
              "      box-shadow: 0px 1px 3px 1px rgba(0, 0, 0, 0.15);\n",
              "      filter: drop-shadow(0px 1px 2px rgba(0, 0, 0, 0.3));\n",
              "      fill: #FFFFFF;\n",
              "    }\n",
              "  </style>\n",
              "\n",
              "      <script>\n",
              "        const buttonEl =\n",
              "          document.querySelector('#df-fd5f9983-b98f-4018-9e9f-99853dcf2a31 button.colab-df-convert');\n",
              "        buttonEl.style.display =\n",
              "          google.colab.kernel.accessAllowed ? 'block' : 'none';\n",
              "\n",
              "        async function convertToInteractive(key) {\n",
              "          const element = document.querySelector('#df-fd5f9983-b98f-4018-9e9f-99853dcf2a31');\n",
              "          const dataTable =\n",
              "            await google.colab.kernel.invokeFunction('convertToInteractive',\n",
              "                                                     [key], {});\n",
              "          if (!dataTable) return;\n",
              "\n",
              "          const docLinkHtml = 'Like what you see? Visit the ' +\n",
              "            '<a target=\"_blank\" href=https://colab.research.google.com/notebooks/data_table.ipynb>data table notebook</a>'\n",
              "            + ' to learn more about interactive tables.';\n",
              "          element.innerHTML = '';\n",
              "          dataTable['output_type'] = 'display_data';\n",
              "          await google.colab.output.renderOutput(dataTable, element);\n",
              "          const docLink = document.createElement('div');\n",
              "          docLink.innerHTML = docLinkHtml;\n",
              "          element.appendChild(docLink);\n",
              "        }\n",
              "      </script>\n",
              "    </div>\n",
              "  </div>\n",
              "  "
            ]
          },
          "metadata": {},
          "execution_count": 48
        }
      ]
    },
    {
      "cell_type": "code",
      "source": [
        "# проверка nan значений\n",
        "df.info()\n",
        "# количество строчек везде одинаково, поэтому nan значений нет"
      ],
      "metadata": {
        "colab": {
          "base_uri": "https://localhost:8080/"
        },
        "id": "dXAYc_eeauMt",
        "outputId": "13cc0eca-ebc5-4065-a375-c2b2c1835679"
      },
      "execution_count": null,
      "outputs": [
        {
          "output_type": "stream",
          "name": "stdout",
          "text": [
            "<class 'pandas.core.frame.DataFrame'>\n",
            "RangeIndex: 2414 entries, 0 to 2413\n",
            "Data columns (total 6 columns):\n",
            " #   Column                        Non-Null Count  Dtype  \n",
            "---  ------                        --------------  -----  \n",
            " 0   Порядковый номер              2414 non-null   int64  \n",
            " 1   Идентификационный номер       2414 non-null   int64  \n",
            " 2   Классификация очагов          2414 non-null   object \n",
            " 3   Год обследования              2414 non-null   int64  \n",
            " 4   Периметр территории очагов,м  2414 non-null   float64\n",
            " 5   Площадь территории очагов,м2  2414 non-null   float64\n",
            "dtypes: float64(2), int64(3), object(1)\n",
            "memory usage: 113.3+ KB\n"
          ]
        }
      ]
    },
    {
      "cell_type": "code",
      "source": [
        "# проверка категориальных признаков - Классификация очагов\n",
        "df['Классификация очагов'].value_counts()"
      ],
      "metadata": {
        "colab": {
          "base_uri": "https://localhost:8080/"
        },
        "id": "XSQRUpnzbOJC",
        "outputId": "7ac1c42e-f8ed-4342-ed33-5d0d9e8ae6d6"
      },
      "execution_count": null,
      "outputs": [
        {
          "output_type": "execute_result",
          "data": {
            "text/plain": [
              "Действующий очаг           671\n",
              "Возникающий очаг           653\n",
              "Без признаков поражения    628\n",
              "Не определено              236\n",
              "Затухающий очаг            137\n",
              "Вырублено                   89\n",
              "Name: Классификация очагов, dtype: int64"
            ]
          },
          "metadata": {},
          "execution_count": 50
        }
      ]
    },
    {
      "cell_type": "code",
      "source": [
        "# преобразование категориальных признаков\n",
        "encoder = LabelEncoder()\n",
        "df['Классификация очагов'] = encoder.fit_transform(df['Классификация очагов'])\n",
        "df.head()"
      ],
      "metadata": {
        "colab": {
          "base_uri": "https://localhost:8080/",
          "height": 250
        },
        "id": "3nZW3tnLcGHK",
        "outputId": "e5758dde-62fc-43fd-ffff-b294567f7453"
      },
      "execution_count": null,
      "outputs": [
        {
          "output_type": "execute_result",
          "data": {
            "text/plain": [
              "   Порядковый номер  Идентификационный номер  Классификация очагов  \\\n",
              "0              1464                        1                     3   \n",
              "1              1465                        2                     1   \n",
              "2              1466                        3                     3   \n",
              "3              1467                        4                     3   \n",
              "4              1468                        5                     0   \n",
              "\n",
              "   Год обследования  Периметр территории очагов,м  \\\n",
              "0              2017                     17.840530   \n",
              "1              2017                     47.601830   \n",
              "2              2017                     48.658123   \n",
              "3              2017                    239.168655   \n",
              "4              2016                   1829.541016   \n",
              "\n",
              "   Площадь территории очагов,м2  \n",
              "0                     11.855066  \n",
              "1                    175.242859  \n",
              "2                     95.710403  \n",
              "3                    595.867127  \n",
              "4                   3685.098633  "
            ],
            "text/html": [
              "\n",
              "  <div id=\"df-da409bce-0675-4aac-a908-4355b4dfcdb9\">\n",
              "    <div class=\"colab-df-container\">\n",
              "      <div>\n",
              "<style scoped>\n",
              "    .dataframe tbody tr th:only-of-type {\n",
              "        vertical-align: middle;\n",
              "    }\n",
              "\n",
              "    .dataframe tbody tr th {\n",
              "        vertical-align: top;\n",
              "    }\n",
              "\n",
              "    .dataframe thead th {\n",
              "        text-align: right;\n",
              "    }\n",
              "</style>\n",
              "<table border=\"1\" class=\"dataframe\">\n",
              "  <thead>\n",
              "    <tr style=\"text-align: right;\">\n",
              "      <th></th>\n",
              "      <th>Порядковый номер</th>\n",
              "      <th>Идентификационный номер</th>\n",
              "      <th>Классификация очагов</th>\n",
              "      <th>Год обследования</th>\n",
              "      <th>Периметр территории очагов,м</th>\n",
              "      <th>Площадь территории очагов,м2</th>\n",
              "    </tr>\n",
              "  </thead>\n",
              "  <tbody>\n",
              "    <tr>\n",
              "      <th>0</th>\n",
              "      <td>1464</td>\n",
              "      <td>1</td>\n",
              "      <td>3</td>\n",
              "      <td>2017</td>\n",
              "      <td>17.840530</td>\n",
              "      <td>11.855066</td>\n",
              "    </tr>\n",
              "    <tr>\n",
              "      <th>1</th>\n",
              "      <td>1465</td>\n",
              "      <td>2</td>\n",
              "      <td>1</td>\n",
              "      <td>2017</td>\n",
              "      <td>47.601830</td>\n",
              "      <td>175.242859</td>\n",
              "    </tr>\n",
              "    <tr>\n",
              "      <th>2</th>\n",
              "      <td>1466</td>\n",
              "      <td>3</td>\n",
              "      <td>3</td>\n",
              "      <td>2017</td>\n",
              "      <td>48.658123</td>\n",
              "      <td>95.710403</td>\n",
              "    </tr>\n",
              "    <tr>\n",
              "      <th>3</th>\n",
              "      <td>1467</td>\n",
              "      <td>4</td>\n",
              "      <td>3</td>\n",
              "      <td>2017</td>\n",
              "      <td>239.168655</td>\n",
              "      <td>595.867127</td>\n",
              "    </tr>\n",
              "    <tr>\n",
              "      <th>4</th>\n",
              "      <td>1468</td>\n",
              "      <td>5</td>\n",
              "      <td>0</td>\n",
              "      <td>2016</td>\n",
              "      <td>1829.541016</td>\n",
              "      <td>3685.098633</td>\n",
              "    </tr>\n",
              "  </tbody>\n",
              "</table>\n",
              "</div>\n",
              "      <button class=\"colab-df-convert\" onclick=\"convertToInteractive('df-da409bce-0675-4aac-a908-4355b4dfcdb9')\"\n",
              "              title=\"Convert this dataframe to an interactive table.\"\n",
              "              style=\"display:none;\">\n",
              "        \n",
              "  <svg xmlns=\"http://www.w3.org/2000/svg\" height=\"24px\"viewBox=\"0 0 24 24\"\n",
              "       width=\"24px\">\n",
              "    <path d=\"M0 0h24v24H0V0z\" fill=\"none\"/>\n",
              "    <path d=\"M18.56 5.44l.94 2.06.94-2.06 2.06-.94-2.06-.94-.94-2.06-.94 2.06-2.06.94zm-11 1L8.5 8.5l.94-2.06 2.06-.94-2.06-.94L8.5 2.5l-.94 2.06-2.06.94zm10 10l.94 2.06.94-2.06 2.06-.94-2.06-.94-.94-2.06-.94 2.06-2.06.94z\"/><path d=\"M17.41 7.96l-1.37-1.37c-.4-.4-.92-.59-1.43-.59-.52 0-1.04.2-1.43.59L10.3 9.45l-7.72 7.72c-.78.78-.78 2.05 0 2.83L4 21.41c.39.39.9.59 1.41.59.51 0 1.02-.2 1.41-.59l7.78-7.78 2.81-2.81c.8-.78.8-2.07 0-2.86zM5.41 20L4 18.59l7.72-7.72 1.47 1.35L5.41 20z\"/>\n",
              "  </svg>\n",
              "      </button>\n",
              "      \n",
              "  <style>\n",
              "    .colab-df-container {\n",
              "      display:flex;\n",
              "      flex-wrap:wrap;\n",
              "      gap: 12px;\n",
              "    }\n",
              "\n",
              "    .colab-df-convert {\n",
              "      background-color: #E8F0FE;\n",
              "      border: none;\n",
              "      border-radius: 50%;\n",
              "      cursor: pointer;\n",
              "      display: none;\n",
              "      fill: #1967D2;\n",
              "      height: 32px;\n",
              "      padding: 0 0 0 0;\n",
              "      width: 32px;\n",
              "    }\n",
              "\n",
              "    .colab-df-convert:hover {\n",
              "      background-color: #E2EBFA;\n",
              "      box-shadow: 0px 1px 2px rgba(60, 64, 67, 0.3), 0px 1px 3px 1px rgba(60, 64, 67, 0.15);\n",
              "      fill: #174EA6;\n",
              "    }\n",
              "\n",
              "    [theme=dark] .colab-df-convert {\n",
              "      background-color: #3B4455;\n",
              "      fill: #D2E3FC;\n",
              "    }\n",
              "\n",
              "    [theme=dark] .colab-df-convert:hover {\n",
              "      background-color: #434B5C;\n",
              "      box-shadow: 0px 1px 3px 1px rgba(0, 0, 0, 0.15);\n",
              "      filter: drop-shadow(0px 1px 2px rgba(0, 0, 0, 0.3));\n",
              "      fill: #FFFFFF;\n",
              "    }\n",
              "  </style>\n",
              "\n",
              "      <script>\n",
              "        const buttonEl =\n",
              "          document.querySelector('#df-da409bce-0675-4aac-a908-4355b4dfcdb9 button.colab-df-convert');\n",
              "        buttonEl.style.display =\n",
              "          google.colab.kernel.accessAllowed ? 'block' : 'none';\n",
              "\n",
              "        async function convertToInteractive(key) {\n",
              "          const element = document.querySelector('#df-da409bce-0675-4aac-a908-4355b4dfcdb9');\n",
              "          const dataTable =\n",
              "            await google.colab.kernel.invokeFunction('convertToInteractive',\n",
              "                                                     [key], {});\n",
              "          if (!dataTable) return;\n",
              "\n",
              "          const docLinkHtml = 'Like what you see? Visit the ' +\n",
              "            '<a target=\"_blank\" href=https://colab.research.google.com/notebooks/data_table.ipynb>data table notebook</a>'\n",
              "            + ' to learn more about interactive tables.';\n",
              "          element.innerHTML = '';\n",
              "          dataTable['output_type'] = 'display_data';\n",
              "          await google.colab.output.renderOutput(dataTable, element);\n",
              "          const docLink = document.createElement('div');\n",
              "          docLink.innerHTML = docLinkHtml;\n",
              "          element.appendChild(docLink);\n",
              "        }\n",
              "      </script>\n",
              "    </div>\n",
              "  </div>\n",
              "  "
            ]
          },
          "metadata": {},
          "execution_count": 51
        }
      ]
    },
    {
      "cell_type": "code",
      "source": [
        "# создание тренировочных и тестовых выборок\n",
        "# признаки столбцы Классификация очагов, Периметр территории очагов,м\n",
        "X = df.loc[:, ['Классификация очагов', 'Периметр территории очагов,м']].values\n",
        "Y = df['Площадь территории очагов,м2']\n",
        "X_train, X_test, Y_train, Y_test = train_test_split(X, Y, test_size=0.2, random_state=25)"
      ],
      "metadata": {
        "id": "99y9CDxCcuO2"
      },
      "execution_count": null,
      "outputs": []
    },
    {
      "cell_type": "code",
      "source": [
        "# модель 1 - линейная регрессия\n",
        "model = LinearRegression()\n",
        "# обучаем модель\n",
        "model = model.fit(X_train, Y_train)"
      ],
      "metadata": {
        "id": "EwjObqEnd0ym"
      },
      "execution_count": null,
      "outputs": []
    },
    {
      "cell_type": "code",
      "source": [
        "model.predict(X_test)"
      ],
      "metadata": {
        "colab": {
          "base_uri": "https://localhost:8080/"
        },
        "id": "SLX2KUNPe6Bw",
        "outputId": "626f4c56-f15f-4348-c058-b58165f8c970"
      },
      "execution_count": null,
      "outputs": [
        {
          "output_type": "execute_result",
          "data": {
            "text/plain": [
              "array([-9.23489347e+02,  2.47909698e+02, -5.66025924e+02,  1.46122903e+04,\n",
              "        7.00411419e+03, -1.09326279e+03,  4.58596507e+03, -7.90930494e+02,\n",
              "        5.98846458e+02, -3.69223071e+02,  1.93222460e+03, -1.19361809e+03,\n",
              "       -9.80001096e+01,  1.50079638e+03,  2.91784829e+03, -7.29614325e+02,\n",
              "       -7.40074487e+02, -1.02061517e+03,  9.29958316e+02, -1.30604995e+03,\n",
              "       -1.31329766e+03, -1.49348247e+03, -1.01920096e+03,  1.57434605e+04,\n",
              "        4.62106390e+03, -1.17770791e+03, -9.38413811e+02, -1.77707526e+02,\n",
              "        4.81877873e+03, -3.23092533e+02, -1.39324941e+03, -6.11083822e+02,\n",
              "       -1.71104751e+03,  5.15262641e+03,  1.07599198e+03,  1.47012929e+02,\n",
              "       -1.46084407e+03,  2.60023248e+03, -4.68701740e+02, -1.41687520e+03,\n",
              "        4.29167774e+03,  3.61770209e+03,  1.25330344e+03, -9.93528880e+02,\n",
              "       -3.56630239e+02,  4.28106953e+03, -7.08706093e+02, -1.58565318e+03,\n",
              "       -3.60367600e+02,  5.96279897e+03, -1.02126606e+03,  7.43043855e+03,\n",
              "        5.70061551e+02,  1.25816439e+03,  7.44697492e+03,  1.19463717e+04,\n",
              "        1.36066444e+03, -1.05066693e+03, -1.69419816e+03, -1.67878103e+03,\n",
              "        1.04569923e+03,  1.71011325e+03, -1.67090537e+03, -5.93683273e+02,\n",
              "        2.02035688e+03, -1.58675667e+03,  2.14823932e+03,  8.26698824e+02,\n",
              "       -1.58809466e+03,  8.64352646e+02, -1.45148161e+03,  2.14241587e+04,\n",
              "       -1.46093712e+03, -1.66944320e+03, -1.44522764e+03, -4.48440813e+02,\n",
              "       -1.64095870e+03,  1.33964865e+02, -1.62683266e+03,  4.77092819e+02,\n",
              "       -1.59910092e+03,  2.30388472e+02, -2.75386058e+02, -1.48915127e+03,\n",
              "        3.18195374e+03, -9.43757176e+02, -1.58959294e+03, -1.29894180e+03,\n",
              "       -1.70735977e+03,  3.99633551e+03,  5.20103541e+02, -8.45673543e+02,\n",
              "        8.79901288e+03,  2.94460882e+03,  6.66467018e+03,  1.74362512e+04,\n",
              "        8.16863062e+02, -2.83671159e+01, -8.23554859e+02,  4.88872252e+03,\n",
              "       -1.65169665e+03,  5.67435691e+03, -1.52410788e+03, -1.65019508e+03,\n",
              "        2.69791686e+03, -5.89307898e+01, -1.50454479e+03, -1.32284942e+03,\n",
              "        2.43167390e+04, -1.45357162e+03, -1.23319353e+03, -1.10840797e+03,\n",
              "       -4.68195969e+02,  5.03919982e+03, -1.53234671e+03,  1.00321874e+01,\n",
              "       -1.71677585e+03,  1.70448134e+03, -1.19885998e+03,  9.48917290e+03,\n",
              "       -1.08601437e+03, -1.10815298e+03, -7.46835791e+02, -1.15696979e+02,\n",
              "       -2.41017988e+02,  1.28971668e+04, -1.80380725e+02, -1.30939935e+03,\n",
              "        2.11571387e+03,  6.46778700e+01,  9.74852661e+02, -1.60667815e+03,\n",
              "       -1.16787933e+03, -1.29862654e+03, -9.46274030e+02, -1.21998722e+03,\n",
              "        1.46121371e+04,  3.03471729e+03, -1.16070625e+03, -1.68968459e+03,\n",
              "       -3.83465266e+02, -5.04217268e+02, -1.11685894e+03, -1.17427248e+03,\n",
              "       -1.93646024e+03,  1.83756769e+02,  4.72330205e+03, -1.18223636e+03,\n",
              "       -1.69636226e+03,  1.14364739e+03,  9.80407336e+01, -4.01534898e+02,\n",
              "       -2.15017411e+02,  7.90958387e+01, -1.63499356e+03,  2.47526889e+03,\n",
              "        1.92463199e+03,  1.62863295e+03, -8.97008522e+02, -1.34977913e+03,\n",
              "        6.69827315e+03, -1.34553380e+03, -1.64736150e+03,  6.23186967e+03,\n",
              "       -1.50104370e+03, -2.53325025e+02,  3.51436145e+03,  8.33030810e+02,\n",
              "        9.43351090e+03,  6.66394043e+03, -5.45373357e+02, -1.03722599e+03,\n",
              "       -7.44310895e+02,  1.77152586e+02,  1.25937252e+03,  1.75977397e+03,\n",
              "       -1.22496716e+03,  1.58995829e+03, -1.56959226e+03, -1.46763320e+03,\n",
              "        1.87772648e+03,  1.65763682e+03, -1.20353084e+02, -1.48610704e+03,\n",
              "       -1.59901202e+03, -1.73908494e+03, -1.59139432e+03,  2.29666892e+03,\n",
              "       -1.43666864e+02, -1.62937238e+03, -1.44910652e+03,  8.73695947e+03,\n",
              "        9.46915617e+03,  7.59635401e+03,  3.49605557e+02, -1.13466486e+03,\n",
              "       -1.57104500e+03,  1.81883347e+03,  9.91416888e+02,  7.29399851e+03,\n",
              "        4.10131597e+03,  7.66854401e+01,  4.94723903e+02, -1.84213733e+02,\n",
              "       -1.33848651e+03,  7.21417214e+02,  4.55701600e+02,  2.48103979e+03,\n",
              "       -5.00829355e+02, -1.45101693e+03, -1.05776238e+03, -1.52957861e+03,\n",
              "       -3.35397755e+02, -1.43197510e+03, -1.08600776e+03, -1.56884942e+03,\n",
              "        1.27085752e+03,  1.43802635e+03, -1.15881287e+03, -1.21290703e+03,\n",
              "        2.98664978e+03, -1.00144071e+03,  6.85297914e+03, -8.54450839e+02,\n",
              "       -1.66848813e+03, -7.92074347e+02, -1.44933846e+02,  5.17848710e+02,\n",
              "       -1.39416389e+03,  4.72928461e+03,  3.96574799e+04,  5.44851987e+02,\n",
              "        1.57345070e+03,  1.87227738e+02, -9.97059483e+02,  3.45046572e+03,\n",
              "        8.94568438e+02, -1.73324181e+03, -1.12890971e+03, -1.46522396e+02,\n",
              "       -1.19704918e+03,  5.77362546e+03, -9.04425952e+02, -1.05570654e+03,\n",
              "       -1.25969340e+03,  1.22937398e+04, -1.67586834e+03,  6.56299253e+02,\n",
              "        7.77163361e+02, -1.07708975e+03,  6.46650921e+02,  6.23303218e+02,\n",
              "       -1.06734395e+03,  5.29215017e+02,  3.19715099e+03, -6.14334557e+02,\n",
              "       -1.50984169e+03, -1.30685978e+03, -1.24468269e+03, -1.35605638e+03,\n",
              "        1.00911763e+03,  1.24766253e+04, -1.46786025e+03, -1.54502557e+03,\n",
              "        1.48357225e+04, -1.63583727e+03,  1.11270651e+03, -1.22554642e+03,\n",
              "        1.17863385e+02, -1.81588829e+03, -5.81717998e+02, -7.44395448e+02,\n",
              "        7.52441409e+02, -1.34781991e+03,  2.72425249e+03, -1.61697534e+03,\n",
              "       -1.19249191e+03, -5.27997960e+02, -1.01201487e+03, -1.59200964e+03,\n",
              "        4.38235966e+03,  8.92516496e+03, -4.27669097e+02,  4.47809005e+03,\n",
              "       -2.27280397e+02,  2.22023644e+03, -9.78939161e+02,  2.53545542e+03,\n",
              "        5.85149992e+03, -1.07818576e+03,  6.50296321e+02, -1.24338887e+03,\n",
              "        2.06705686e+02,  2.07716647e+03, -1.28817335e+03, -1.49367058e+03,\n",
              "       -1.56323056e+03,  3.04891235e+03,  3.88983456e+02,  1.72170424e+03,\n",
              "       -1.62012131e+03,  4.72554047e+02, -3.67955617e+02, -4.99601865e+02,\n",
              "       -1.34352337e+03,  2.28898455e+02,  3.95716504e+03, -5.30667674e+02,\n",
              "        2.77694555e+03, -1.13623673e+03, -1.69532266e+03, -1.61320377e+03,\n",
              "       -5.51761697e+02,  1.68879601e+04, -1.65620714e+03,  2.12756693e+02,\n",
              "       -1.22208743e+03, -1.09138888e+03, -1.23468203e+03, -1.05664312e+03,\n",
              "       -1.29942077e+03, -4.42636756e+02, -3.76988733e+02,  9.20920856e+02,\n",
              "       -1.48748430e+03, -1.00679712e+03, -1.55400585e+03, -1.42985639e+03,\n",
              "        3.78907611e+03, -7.75920223e+02,  1.53428883e+02, -1.25621776e+03,\n",
              "       -4.28467598e+02, -1.40513256e+03, -1.53178140e+03, -8.20027289e+02,\n",
              "       -6.05041881e+02, -1.70849741e+02,  1.22899714e+03,  4.16852034e+03,\n",
              "        2.60065907e+03, -9.39392411e+02, -8.41748917e+02,  4.54744027e+03,\n",
              "       -1.54094635e+03, -1.43240028e+03, -9.83245731e+01,  2.78521191e+02,\n",
              "       -1.49406548e+03,  7.42223205e+03, -1.17281884e+03,  2.68715902e+03,\n",
              "       -1.44040036e+03, -8.98472893e+02, -1.59749363e+03,  3.38471612e+02,\n",
              "        4.43231656e+03, -1.51540566e+03, -1.24184104e+03,  1.76168731e+03,\n",
              "        2.16173786e+03,  6.91779160e+03, -1.50052603e+03,  5.38798522e+03,\n",
              "        3.31537872e+03, -1.48013683e+03, -2.25416192e+02, -1.58217856e+03,\n",
              "       -1.60347144e+03, -3.89510316e+02,  5.33161685e+03, -1.54988847e+03,\n",
              "       -1.29440530e+03,  3.81253561e+04,  2.06947161e+02,  2.62838953e+03,\n",
              "       -1.47884550e+03,  1.53522657e+02,  1.15085040e+03, -7.62063189e+02,\n",
              "       -9.66291824e+02, -4.35727077e+02, -1.48015257e+03, -1.03990510e+03,\n",
              "        1.19998830e+03, -1.12373719e+03, -7.87122602e+02,  2.60145768e+03,\n",
              "        1.52902298e+03,  3.06190427e+03, -8.83460479e+02,  2.90731248e+03,\n",
              "       -1.41670035e+03,  6.21056276e+02, -9.00172860e+02,  3.19021951e+03,\n",
              "        2.40646681e+03,  1.57349278e+03,  2.13262578e+03, -1.56402050e+03,\n",
              "       -9.68221420e+02, -3.72890736e+02,  2.52889229e+03,  5.81177835e+02,\n",
              "       -1.11734968e+03, -5.43178954e+02, -1.77848446e+02,  4.98000632e+03,\n",
              "        3.47931101e+02, -7.80820088e+02,  3.61943044e+02, -2.85167680e+02,\n",
              "       -1.43916620e+03,  1.60829967e+03,  1.19249167e+04,  2.30116872e+03,\n",
              "        4.86495246e+02, -5.64925897e+02,  2.24782965e+03,  1.70865738e+03,\n",
              "       -1.47061468e+03, -1.04381426e+03, -5.43364429e+02,  1.13225569e+03,\n",
              "        1.02670301e+03, -4.59237212e+02, -1.76712172e+03,  8.37254820e+02,\n",
              "        4.74262017e+03, -7.58755404e+02, -1.37221715e+03,  1.13308268e+03,\n",
              "        1.14123363e+04,  7.69569289e+02, -1.04911461e+03, -9.43506138e+02,\n",
              "        1.04257714e+04,  9.99967770e+02,  5.81584333e+03, -1.10246525e+03,\n",
              "        5.46717948e+02, -1.57127872e+03, -1.50445452e+03,  7.80794276e+03,\n",
              "        1.89708927e+02,  9.46358615e+02,  1.19633557e+03, -9.41642935e+02,\n",
              "        6.02676933e+02,  2.38589043e+03,  9.86765179e+03, -8.38387828e+02,\n",
              "        1.05988685e+03, -1.61371491e+03,  1.47967605e+04,  1.26217116e+03,\n",
              "       -1.66927612e+03,  5.37894823e+03, -5.14210763e+02, -1.43994657e+03,\n",
              "       -1.53977613e+03, -1.93344969e+03, -1.30316485e+03,  3.05276826e+03,\n",
              "       -1.75304061e+03, -1.27409026e+03,  6.02366293e+02,  8.55846715e+03,\n",
              "        7.81233281e+03,  5.75775180e+03,  2.08798841e+03, -5.81462122e+02,\n",
              "       -1.28697607e+03, -1.59949503e+03,  1.53451828e+03,  1.04633421e+03,\n",
              "       -1.44368296e+03,  1.82898284e+03,  8.67448738e+03, -1.14685720e+03,\n",
              "       -8.35131205e+02, -6.58425669e+02, -1.64845811e+03])"
            ]
          },
          "metadata": {},
          "execution_count": 54
        }
      ]
    },
    {
      "cell_type": "code",
      "source": [
        "Y_pred = model.predict(X_train)\n",
        "\n",
        "# первый признак - Классификация очагов\n",
        "plt.scatter(X_train[:,0], Y_train, label='Исходные данные')\n",
        "plt.plot(X_train[:,0], Y_pred, 'ro', label='Предсказанные данные')\n",
        "plt.xlabel('Классификация очагов')\n",
        "plt.ylabel('Площадь территории очагов,м2')\n",
        "plt.legend()\n",
        "plt.show()"
      ],
      "metadata": {
        "colab": {
          "base_uri": "https://localhost:8080/",
          "height": 449
        },
        "id": "rzMza0uLfOCd",
        "outputId": "59fff426-0506-4768-a22a-c2411190f213"
      },
      "execution_count": null,
      "outputs": [
        {
          "output_type": "display_data",
          "data": {
            "text/plain": [
              "<Figure size 640x480 with 1 Axes>"
            ],
            "image/png": "[encoded data removed]"
          },
          "metadata": {}
        }
      ]
    },
    {
      "cell_type": "code",
      "source": [
        "# второй признак - Классификация очагов\n",
        "plt.scatter(X_train[:,1], Y_train, label='Исходные данные')\n",
        "plt.plot(X_train[:,1], Y_pred, 'ro', label='Предсказанные данные')\n",
        "plt.xlabel('Периметр территории очагов,м')\n",
        "plt.ylabel('Площадь территории очагов,м2')\n",
        "plt.legend()\n",
        "plt.show()"
      ],
      "metadata": {
        "colab": {
          "base_uri": "https://localhost:8080/",
          "height": 449
        },
        "id": "NtRHNCMb_YmH",
        "outputId": "012ec152-9363-4431-a868-50c8c725679e"
      },
      "execution_count": null,
      "outputs": [
        {
          "output_type": "display_data",
          "data": {
            "text/plain": [
              "<Figure size 640x480 with 1 Axes>"
            ],
            "image/png": "[encoded data removed]"
          },
          "metadata": {}
        }
      ]
    },
    {
      "cell_type": "code",
      "source": [
        "# rmse - sqrt(1 / n * sum(y_pred - y)^2)\n",
        "# r2 - 1 - sum(y_pred - y)/sum(y_sred - y) коэффициент детерминации\n",
        "\n",
        "# rmse -> 0\n",
        "# r2 -> 1\n",
        "\n",
        "# тестовая выборка\n",
        "Y_pred_test = model.predict(X_test)\n",
        "rmse = math.sqrt(mean_squared_error(Y_test, Y_pred_test))\n",
        "r2 = r2_score(Y_test, Y_pred_test)\n",
        "\n",
        "print(f\"rmse = {rmse}, r2 = {r2}\")"
      ],
      "metadata": {
        "colab": {
          "base_uri": "https://localhost:8080/"
        },
        "id": "8J2v5GMq_zak",
        "outputId": "4ed0f151-4ca6-4193-b2bf-28b217c47129"
      },
      "execution_count": null,
      "outputs": [
        {
          "output_type": "stream",
          "name": "stdout",
          "text": [
            "rmse = 10838.057269046842, r2 = 0.22413877106382374\n"
          ]
        }
      ]
    },
    {
      "cell_type": "code",
      "source": [
        "# модель 2 - дерево принятия решений без параметров\n",
        "model_tree = DecisionTreeRegressor()\n",
        "model_tree = model_tree.fit(X_train, Y_train)\n",
        "\n",
        "Y_pred = model_tree.predict(X_train)\n",
        "\n",
        "# первый признак - Классификация очагов\n",
        "plt.scatter(X_train[:,0], Y_train, label='Исходные данные')\n",
        "plt.plot(X_train[:,0], Y_pred, 'ro', label='Предсказанные данные')\n",
        "plt.xlabel('Классификация очагов')\n",
        "plt.ylabel('Площадь территории очагов,м2')\n",
        "plt.legend()\n",
        "plt.show()\n",
        "# модель переобучена"
      ],
      "metadata": {
        "colab": {
          "base_uri": "https://localhost:8080/",
          "height": 449
        },
        "id": "9OsdGtmUD2cd",
        "outputId": "a803eafe-522a-4731-fceb-060a243ac0c5"
      },
      "execution_count": null,
      "outputs": [
        {
          "output_type": "display_data",
          "data": {
            "text/plain": [
              "<Figure size 640x480 with 1 Axes>"
            ],
            "image/png": "[encoded data removed]"
          },
          "metadata": {}
        }
      ]
    },
    {
      "cell_type": "code",
      "source": [
        "# второй признак - Классификация очагов\n",
        "plt.scatter(X_train[:,1], Y_train, label='Исходные данные')\n",
        "plt.plot(X_train[:,1], Y_pred, 'ro', label='Предсказанные данные')\n",
        "plt.xlabel('Периметр территории очагов,м')\n",
        "plt.ylabel('Площадь территории очагов,м2')\n",
        "plt.legend()\n",
        "plt.show()"
      ],
      "metadata": {
        "colab": {
          "base_uri": "https://localhost:8080/",
          "height": 449
        },
        "id": "SvJDYdc0EAoL",
        "outputId": "ed945fab-f2b5-421e-b84b-2b7632e020a7"
      },
      "execution_count": null,
      "outputs": [
        {
          "output_type": "display_data",
          "data": {
            "text/plain": [
              "<Figure size 640x480 with 1 Axes>"
            ],
            "image/png": "[encoded data removed]"
          },
          "metadata": {}
        }
      ]
    },
    {
      "cell_type": "code",
      "source": [
        "# модель 2 - дерево принятий решений с ограничение по глубине\n",
        "\n",
        "model_tree = DecisionTreeRegressor(max_depth=5)\n",
        "model_tree = model_tree.fit(X_train, Y_train)"
      ],
      "metadata": {
        "id": "pnLPN-a6CLc9"
      },
      "execution_count": null,
      "outputs": []
    },
    {
      "cell_type": "code",
      "source": [
        "# делаем предсказание\n",
        "model_tree.predict(X_train)"
      ],
      "metadata": {
        "colab": {
          "base_uri": "https://localhost:8080/"
        },
        "id": "IBxweVb6Cx6F",
        "outputId": "7f0760e0-95b2-4e21-efd5-59e032c16b2e"
      },
      "execution_count": null,
      "outputs": [
        {
          "output_type": "execute_result",
          "data": {
            "text/plain": [
              "array([  83.3305007 ,   83.3305007 ,   83.3305007 , ..., 1021.95105064,\n",
              "         83.3305007 ,   83.3305007 ])"
            ]
          },
          "metadata": {},
          "execution_count": 61
        }
      ]
    },
    {
      "cell_type": "code",
      "source": [
        "Y_pred = model_tree.predict(X_train)\n",
        "\n",
        "# первый признак - Классификация очагов\n",
        "plt.scatter(X_train[:,0], Y_train, label='Исходные данные')\n",
        "plt.plot(X_train[:,0], Y_pred, 'ro', label='Предсказанные данные')\n",
        "plt.xlabel('Классификация очагов')\n",
        "plt.ylabel('Площадь территории очагов,м2')\n",
        "plt.legend()\n",
        "plt.show()"
      ],
      "metadata": {
        "colab": {
          "base_uri": "https://localhost:8080/",
          "height": 449
        },
        "id": "GhhVwyoDC8gv",
        "outputId": "e55910a3-5c3b-4b23-8e9f-18383a64358a"
      },
      "execution_count": null,
      "outputs": [
        {
          "output_type": "display_data",
          "data": {
            "text/plain": [
              "<Figure size 640x480 with 1 Axes>"
            ],
            "image/png": "[encoded data removed]"
          },
          "metadata": {}
        }
      ]
    },
    {
      "cell_type": "code",
      "source": [
        "# второй признак - Классификация очагов\n",
        "plt.scatter(X_train[:,1], Y_train, label='Исходные данные')\n",
        "plt.plot(X_train[:,1], Y_pred, 'ro', label='Предсказанные данные')\n",
        "plt.xlabel('Периметр территории очагов,м')\n",
        "plt.ylabel('Площадь территории очагов,м2')\n",
        "plt.legend()\n",
        "plt.show()"
      ],
      "metadata": {
        "colab": {
          "base_uri": "https://localhost:8080/",
          "height": 449
        },
        "id": "gNNAy-oQDCCr",
        "outputId": "88e48dad-cfd0-4d5b-bd1e-5600b7c0fed3"
      },
      "execution_count": null,
      "outputs": [
        {
          "output_type": "display_data",
          "data": {
            "text/plain": [
              "<Figure size 640x480 with 1 Axes>"
            ],
            "image/png": "[encoded data removed]"
          },
          "metadata": {}
        }
      ]
    },
    {
      "cell_type": "code",
      "source": [
        "# тестовая выборка\n",
        "Y_pred_test = model_tree.predict(X_test)\n",
        "rmse = math.sqrt(mean_squared_error(Y_test, Y_pred_test))\n",
        "r2 = r2_score(Y_test, Y_pred_test)\n",
        "\n",
        "print(f\"rmse = {rmse}, r2 = {r2}\")"
      ],
      "metadata": {
        "colab": {
          "base_uri": "https://localhost:8080/"
        },
        "id": "FgS4RBtrEUAm",
        "outputId": "7a14427e-6303-4090-f155-af6415b473c9"
      },
      "execution_count": null,
      "outputs": [
        {
          "output_type": "stream",
          "name": "stdout",
          "text": [
            "rmse = 49635.896926922425, r2 = -15.27319823967644\n"
          ]
        }
      ]
    },
    {
      "cell_type": "markdown",
      "source": [
        "Для данного датасет лучшей стала модель линейной регресии"
      ],
      "metadata": {
        "id": "TAsFZwscEsGw"
      }
    }
  ]
}